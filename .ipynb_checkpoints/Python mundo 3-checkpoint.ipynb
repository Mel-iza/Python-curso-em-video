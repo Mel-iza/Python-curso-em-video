{
 "cells": [
  {
   "cell_type": "markdown",
   "id": "763dbbbc",
   "metadata": {},
   "source": [
    "## Python Mundo 3 - Curso em vídeo \n",
    "Python básico"
   ]
  },
  {
   "cell_type": "markdown",
   "id": "42b8b0af",
   "metadata": {},
   "source": [
    "### __Módulo 1 | Primeiros passos com Python__\n",
    "Praque serve o Python? | Instalando Python 3 e IDLE | Primeiros comandos em Python | Pycharm e QPython3"
   ]
  },
  {
   "cell_type": "code",
   "execution_count": 4,
   "id": "a102a5b3",
   "metadata": {},
   "outputs": [
    {
     "name": "stdout",
     "output_type": "stream",
     "text": [
      "hello world!\n",
      "11\n",
      "74\n",
      "Olá 5\n"
     ]
    }
   ],
   "source": [
    "# Tipos de dados\n",
    "\n",
    "print('hello world!')\n",
    "\n",
    "print(7 + 4)\n",
    "\n",
    "print('7' + ('4'))\n",
    "\n",
    "print('Olá',  5)"
   ]
  },
  {
   "cell_type": "markdown",
   "id": "32da8d61",
   "metadata": {},
   "source": [
    "variáveis"
   ]
  },
  {
   "cell_type": "code",
   "execution_count": 5,
   "id": "d70e4b04",
   "metadata": {},
   "outputs": [
    {
     "name": "stdout",
     "output_type": "stream",
     "text": [
      "Guanabara 25 75.8\n"
     ]
    }
   ],
   "source": [
    "# Toda variável é um objeto em python\n",
    "\n",
    "nome = 'Guanabara'\n",
    "idade = 25\n",
    "peso = 75.8\n",
    "\n",
    "print(nome, idade, peso)"
   ]
  },
  {
   "cell_type": "code",
   "execution_count": 6,
   "id": "ecc16669",
   "metadata": {},
   "outputs": [
    {
     "name": "stdout",
     "output_type": "stream",
     "text": [
      "Qual é seu nome?Juvenal\n",
      "Qual sua idade?22\n",
      "Qual é seu peso?44.5\n",
      "Juvenal 22 44.5\n"
     ]
    }
   ],
   "source": [
    "nome = input('Qual é seu nome? ')\n",
    "idade = input('Qual sua idade? ')\n",
    "peso = input('Qual é seu peso? ')\n",
    "\n",
    "print(nome, idade, peso)"
   ]
  },
  {
   "cell_type": "code",
   "execution_count": 15,
   "id": "c04e7e38",
   "metadata": {},
   "outputs": [
    {
     "name": "stdout",
     "output_type": "stream",
     "text": [
      "Olá mundo\n"
     ]
    }
   ],
   "source": [
    "mensagem = 'Olá mundo'\n",
    "print(mensagem)"
   ]
  },
  {
   "cell_type": "markdown",
   "id": "d6febbe7",
   "metadata": {},
   "source": [
    "\n",
    "**Desafio 0** <br>\n",
    "crie um script python que leia o nome de uma pessoa e mostre uma mensagem de boas-vindas de acordo com o valor digitado <b>"
   ]
  },
  {
   "cell_type": "code",
   "execution_count": 7,
   "id": "d2eea906",
   "metadata": {},
   "outputs": [
    {
     "name": "stdout",
     "output_type": "stream",
     "text": [
      "Qual o seu nome?Link\n",
      "Olá Link muito prazer em te conhecer! \n"
     ]
    }
   ],
   "source": [
    "nome = input('Qual o seu nome?')\n",
    "print('Olá', nome, 'muito prazer em te conhecer! ')"
   ]
  },
  {
   "cell_type": "code",
   "execution_count": 16,
   "id": "8850779c",
   "metadata": {},
   "outputs": [
    {
     "name": "stdout",
     "output_type": "stream",
     "text": [
      "Qual o seu nome?Link\n",
      "Olá, muito prazer em te conhecer! Link\n"
     ]
    }
   ],
   "source": [
    "nome = input('Qual o seu nome?')\n",
    "print('Olá, muito prazer em te conhecer! {}'.format(nome))"
   ]
  },
  {
   "cell_type": "markdown",
   "id": "d0b0e29c",
   "metadata": {},
   "source": [
    "__Desafio 1__ <br>\n",
    "Crie um script pyhton que leia o dia o mes e o ano de nascimento de uma pessoa e mostre uma mensagem com a data formatada."
   ]
  },
  {
   "cell_type": "code",
   "execution_count": 9,
   "id": "d63972d1",
   "metadata": {},
   "outputs": [
    {
     "name": "stdout",
     "output_type": "stream",
     "text": [
      "Qual o dia que voce nasceu? 27\n",
      "Qual o mes voce nasceu? março\n",
      "Qual o ano voce nasceu? 1990\n",
      "Você nasceu no dia 27 de março de 1990 Certo?\n"
     ]
    }
   ],
   "source": [
    "dia = input('Qual o dia que voce nasceu? ')\n",
    "mes = input('Qual o mes voce nasceu? ')\n",
    "ano = input('Qual o ano voce nasceu? ')\n",
    "\n",
    "print('Você nasceu no dia', dia, 'de', mes, 'de', ano, 'Certo?')"
   ]
  },
  {
   "cell_type": "markdown",
   "id": "65632ae7",
   "metadata": {},
   "source": [
    "__Desafio 2__ <br>\n",
    "Crie um script python que leia dois numeros e tente mostrar a soma entre eles\n"
   ]
  },
  {
   "cell_type": "code",
   "execution_count": 13,
   "id": "889a2f1d",
   "metadata": {},
   "outputs": [
    {
     "name": "stdout",
     "output_type": "stream",
     "text": [
      "Digite o primeiro numero2\n",
      "Digite o segundo numero5\n",
      "A soma de 2 com 5 é igual a 25\n"
     ]
    }
   ],
   "source": [
    "numero1 = input('Digite o primeiro numero' )\n",
    "numero2 = input('Digite o segundo numero' )\n",
    "soma = (numero1 + numero2)\n",
    "\n",
    "print('A soma de', numero1, 'com', numero2, 'é igual a', soma)"
   ]
  },
  {
   "cell_type": "code",
   "execution_count": 14,
   "id": "9feb075f",
   "metadata": {},
   "outputs": [
    {
     "name": "stdout",
     "output_type": "stream",
     "text": [
      "Digite o primeiro numero2\n",
      "Digite o segundo numero5\n",
      "A soma de 2 com 5 é igual a 7\n"
     ]
    }
   ],
   "source": [
    "numero1 = int(input('Digite o primeiro numero' ))\n",
    "numero2 = int(input('Digite o segundo numero' ))\n",
    "soma = (numero1 + numero2)\n",
    "\n",
    "print('A soma de', numero1, 'com', numero2, 'é igual a', soma)"
   ]
  },
  {
   "cell_type": "markdown",
   "id": "3e4700e6",
   "metadata": {},
   "source": [
    "### __Módulo 2 | Tratando dados e fazendo contas__\n",
    "Tipos primitivos e saída de dados | somando dois numeros | dissecando uma variavel | operadores aritmeticos | Antecessor e sucessor | Dobro, triplo, Raiz quadrada | Media aritmetica | conversor de medidas | Tabuada | Conversor de moedas | Pintando parede | Calculando Desconto | Reajuste salarial | conversor de temperatura | aluguel de carros"
   ]
  },
  {
   "cell_type": "markdown",
   "id": "72aa758b",
   "metadata": {},
   "source": [
    "__int__ = 7 -4 0  9875 <br>\n",
    "__float__ = 4.5 0.076 -15.223 7.0 <br>\n",
    "__bool__ =  True False <br>\n",
    "__str__ = 'Ola' '7.5' ' ' <br>"
   ]
  },
  {
   "cell_type": "code",
   "execution_count": 18,
   "id": "e9f38f2a",
   "metadata": {},
   "outputs": [
    {
     "name": "stdout",
     "output_type": "stream",
     "text": [
      "A soma vale 3\n",
      "A soma vale 3\n"
     ]
    }
   ],
   "source": [
    "valor = 3\n",
    "\n",
    "print('A soma vale', valor)\n",
    "print('A soma vale {}'.format(valor))"
   ]
  },
  {
   "cell_type": "code",
   "execution_count": 20,
   "id": "50f72d32",
   "metadata": {},
   "outputs": [
    {
     "name": "stdout",
     "output_type": "stream",
     "text": [
      "Digite um valor2\n",
      "<class 'str'>\n"
     ]
    }
   ],
   "source": [
    "n1 = input('Digite um valor')\n",
    "print(type(n1))"
   ]
  },
  {
   "cell_type": "code",
   "execution_count": 32,
   "id": "c7d2f3e1",
   "metadata": {},
   "outputs": [
    {
     "name": "stdout",
     "output_type": "stream",
     "text": [
      "Digite um valor1\n",
      "<class 'int'>\n"
     ]
    }
   ],
   "source": [
    "n1 = input('Digite um valor')\n",
    "n1 = int\n",
    "print(type(n1))"
   ]
  },
  {
   "cell_type": "code",
   "execution_count": 33,
   "id": "bfa102e4",
   "metadata": {},
   "outputs": [
    {
     "name": "stdout",
     "output_type": "stream",
     "text": [
      "Digite um valor1\n",
      "<class 'type'>\n"
     ]
    }
   ],
   "source": [
    "n1 = input('Digite um valor')\n",
    "n1 = float\n",
    "print(type(n1))"
   ]
  },
  {
   "cell_type": "code",
   "execution_count": 36,
   "id": "d6573cb4",
   "metadata": {},
   "outputs": [
    {
     "name": "stdout",
     "output_type": "stream",
     "text": [
      "Digite algo: 3\n",
      "True\n"
     ]
    }
   ],
   "source": [
    "n = input('Digite algo: ')\n",
    "print(n.isnumeric())"
   ]
  },
  {
   "cell_type": "code",
   "execution_count": 37,
   "id": "35460a1f",
   "metadata": {},
   "outputs": [
    {
     "name": "stdout",
     "output_type": "stream",
     "text": [
      "Digite algo: Ola\n",
      "False\n"
     ]
    }
   ],
   "source": [
    "n = input('Digite algo: ')\n",
    "print(n.isnumeric())"
   ]
  },
  {
   "cell_type": "code",
   "execution_count": 38,
   "id": "b5d1505a",
   "metadata": {},
   "outputs": [
    {
     "name": "stdout",
     "output_type": "stream",
     "text": [
      "Digite algo: 2\n",
      "False\n"
     ]
    }
   ],
   "source": [
    "n = input('Digite algo: ')\n",
    "print(n.isalpha())"
   ]
  },
  {
   "cell_type": "code",
   "execution_count": 39,
   "id": "7201c499",
   "metadata": {},
   "outputs": [
    {
     "name": "stdout",
     "output_type": "stream",
     "text": [
      "Digite algo: alo alo\n",
      "False\n"
     ]
    }
   ],
   "source": [
    "n = input('Digite algo: ')\n",
    "print(n.isalpha())"
   ]
  },
  {
   "cell_type": "code",
   "execution_count": 40,
   "id": "a134cd84",
   "metadata": {},
   "outputs": [
    {
     "name": "stdout",
     "output_type": "stream",
     "text": [
      "Digite algo: alo\n",
      "True\n"
     ]
    }
   ],
   "source": [
    "n = input('Digite algo: ')\n",
    "print(n.isalpha())"
   ]
  },
  {
   "cell_type": "markdown",
   "id": "66ef9469",
   "metadata": {},
   "source": [
    "__Desafio 3__ <br>\n",
    "Crie um programa que leia dois números e mostre a soma entre eles"
   ]
  },
  {
   "cell_type": "code",
   "execution_count": 98,
   "id": "c253307c",
   "metadata": {},
   "outputs": [
    {
     "name": "stdout",
     "output_type": "stream",
     "text": [
      "Digite o primeiro numero 0.57\n",
      "Digite o segundo numero 2\n",
      "A soma entre 0.57 e 2 é igual a 2.57\n"
     ]
    }
   ],
   "source": [
    "number1 = eval(input('Digite o primeiro numero '))\n",
    "number2 = eval(input('Digite o segundo numero '))\n",
    "\n",
    "adicao = (number1 + number2)\n",
    "\n",
    "print('A soma entre {} e {} é igual a {}'.format(number1, number2, adicao))"
   ]
  },
  {
   "cell_type": "code",
   "execution_count": 104,
   "id": "16e764bb",
   "metadata": {},
   "outputs": [
    {
     "name": "stdout",
     "output_type": "stream",
     "text": [
      "O tipo do número 0.57 é <class 'float'> \n",
      "O tipo do numero 2 é <class 'int'>\n",
      "O tipo do resultado 2.57 é <class 'float'>\n"
     ]
    }
   ],
   "source": [
    "print('O tipo do número {} é {} '.format(number1, type(number1)))\n",
    "print('O tipo do numero {} é {}'.format(number2, type(number2)))\n",
    "print('O tipo do resultado {} é {}'.format(adicao, type(adicao)))"
   ]
  },
  {
   "cell_type": "markdown",
   "id": "88d77910",
   "metadata": {},
   "source": [
    "__Desafio 4__ <br>\n",
    "Faça um programa que leia algo pelo teclado e mostre na tela o seu tipo primitivo e todas as informações possíveis sobre ele"
   ]
  },
  {
   "cell_type": "code",
   "execution_count": 59,
   "id": "246f0123",
   "metadata": {},
   "outputs": [
    {
     "name": "stdout",
     "output_type": "stream",
     "text": [
      "Digite alguma coisa Ola\n",
      "É um numero?  False\n",
      "É alfabético?  True\n",
      "É alphanumerico?  True\n",
      "É minúsculo?  False\n",
      "É maiúsculo?  False\n"
     ]
    }
   ],
   "source": [
    "res = input('Digite alguma coisa ')\n",
    "\n",
    "print('É um numero? ', res.isnumeric())\n",
    "print('É alfabético? ', res.isalpha())\n",
    "print('É alphanumerico? ', res.isalnum())\n",
    "print('É minúsculo? ', res.islower())\n",
    "print('É maiúsculo? ', res.isupper())"
   ]
  },
  {
   "cell_type": "code",
   "execution_count": 67,
   "id": "5d509385",
   "metadata": {},
   "outputs": [
    {
     "data": {
      "text/plain": [
       "9.0"
      ]
     },
     "execution_count": 67,
     "metadata": {},
     "output_type": "execute_result"
    }
   ],
   "source": [
    "81**(0.5)"
   ]
  },
  {
   "cell_type": "code",
   "execution_count": 68,
   "id": "c86af20e",
   "metadata": {},
   "outputs": [
    {
     "data": {
      "text/plain": [
       "4.236151985630706"
      ]
     },
     "execution_count": 68,
     "metadata": {},
     "output_type": "execute_result"
    }
   ],
   "source": [
    "123**(0.3)"
   ]
  },
  {
   "cell_type": "code",
   "execution_count": 69,
   "id": "00c77e33",
   "metadata": {},
   "outputs": [
    {
     "name": "stdout",
     "output_type": "stream",
     "text": [
      "Qual é o sue nome?Zelda\n",
      "Prazer em conhecer você Zelda\n"
     ]
    }
   ],
   "source": [
    "nome = input('Qual é o sue nome?')\n",
    "print('Prazer em conhecer você {}'.format(nome))"
   ]
  },
  {
   "cell_type": "code",
   "execution_count": 84,
   "id": "284a0ebe",
   "metadata": {},
   "outputs": [
    {
     "name": "stdout",
     "output_type": "stream",
     "text": [
      "Qual é o sue nome?Zelda\n",
      "Prazer em conhecer você Zelda!\n"
     ]
    }
   ],
   "source": [
    "nome = input('Qual é o sue nome?')\n",
    "print('Prazer em conhecer você {}!'.format(nome))"
   ]
  },
  {
   "cell_type": "markdown",
   "id": "1943ea77",
   "metadata": {},
   "source": [
    "__Desafio 5__ <br>\n",
    "Faça um programa que leia um número inteiro e mostre na tela o seu sucessor e seu antecessor"
   ]
  },
  {
   "cell_type": "code",
   "execution_count": 159,
   "id": "f16bd70e",
   "metadata": {},
   "outputs": [
    {
     "name": "stdout",
     "output_type": "stream",
     "text": [
      "Digite um número: 52\n",
      "O antecessor do número 52 é 51 e o sucessor é 53\n"
     ]
    }
   ],
   "source": [
    "# Exercicio com 3 variáveis\n",
    "\n",
    "numero = eval(input('Digite um número: '))\n",
    "\n",
    "antecessor = (numero -1)\n",
    "sucessor = (numero + 1)\n",
    "\n",
    "print('O antecessor do número {} é {} e o sucessor é {}'.format(numero, antecessor, sucessor))"
   ]
  },
  {
   "cell_type": "code",
   "execution_count": 160,
   "id": "376f9e9d",
   "metadata": {},
   "outputs": [
    {
     "name": "stdout",
     "output_type": "stream",
     "text": [
      "Digite um número: 5\n",
      "O antecessor do número 5 é 4 e o sucessor é 6\n"
     ]
    }
   ],
   "source": [
    "# Exercício com 1 variável\n",
    "\n",
    "numero = eval(input('Digite um número: '))\n",
    "\n",
    "print('O antecessor do número {} é {} e o sucessor é {}'.format(numero, (numero-1), (numero+1)))"
   ]
  },
  {
   "cell_type": "markdown",
   "id": "0e0a0cf6",
   "metadata": {},
   "source": [
    "__Desafio 6__ <br>\n",
    "Crie um algoritmo que leia um número e mostre seu dobro, triplo e a raiz quadrada."
   ]
  },
  {
   "cell_type": "code",
   "execution_count": 163,
   "id": "d1b7f009",
   "metadata": {},
   "outputs": [
    {
     "name": "stdout",
     "output_type": "stream",
     "text": [
      "Digite um número: 18\n",
      "O dobro do número 18 é igual a 36, \n",
      "o triplo é igual a 54 \n",
      "A a raiz quadrada é igual a 4.24\n"
     ]
    }
   ],
   "source": [
    "numero = eval(input('Digite um número: '))\n",
    "\n",
    "dobro = numero * 2\n",
    "triplo = numero * 3\n",
    "raiz = numero ** 0.5\n",
    "\n",
    "print('O dobro do número {} é igual a {}, \\no triplo é igual a {} \\nA a raiz quadrada é igual a {:.2f}'.format(numero,\n",
    "                                                                                                       dobro, triplo, raiz))"
   ]
  },
  {
   "cell_type": "markdown",
   "id": "81588db2",
   "metadata": {},
   "source": [
    "__Desafio 7__ <br>\n",
    "Desenvolva um programa que leia as duas notas de um aluno, calcule e mostre a sua média"
   ]
  },
  {
   "cell_type": "code",
   "execution_count": 164,
   "id": "733e90e7",
   "metadata": {},
   "outputs": [
    {
     "name": "stdout",
     "output_type": "stream",
     "text": [
      "Digite a primeira nota 8.5\n",
      "Digite a segunda nota 2.7\n",
      "A média das notas 8.5 e 2.7 é igual a 5.6\n"
     ]
    }
   ],
   "source": [
    "nota1 = eval(input('Digite a primeira nota '))\n",
    "nota2 = eval(input('Digite a segunda nota '))\n",
    "\n",
    "media = (nota1 + nota2)/2\n",
    "\n",
    "print('A média das notas {:.1f} e {:.1f} é igual a {:.1f}'.format(nota1, nota2, media))"
   ]
  },
  {
   "cell_type": "markdown",
   "id": "3bfca176",
   "metadata": {},
   "source": [
    "__Desafio 8__ <br>\n",
    "Escreva um programa que leia um valor em metros e o exiba convertido em centímetros e milímetros"
   ]
  },
  {
   "cell_type": "code",
   "execution_count": 118,
   "id": "d8fb0a2b",
   "metadata": {},
   "outputs": [
    {
     "name": "stdout",
     "output_type": "stream",
     "text": [
      "Digite um valor em metros 3\n",
      "3 metros corresponde a >>> \n",
      "300 centimetros e 3000 milímetros\n"
     ]
    }
   ],
   "source": [
    "valor = eval(input('Digite um valor em metros '))\n",
    "\n",
    "centimetros = valor * 100\n",
    "milimetros = valor * 1000\n",
    "\n",
    "print('{} metros corresponde a >>> \\n{} centimetros e {} milímetros'. format(valor, centimetros, milimetros))"
   ]
  },
  {
   "cell_type": "code",
   "execution_count": 167,
   "id": "759f5d0d",
   "metadata": {},
   "outputs": [
    {
     "name": "stdout",
     "output_type": "stream",
     "text": [
      "Digite um valor em metros 200\n",
      "200 metros corresponde a --> \n",
      "20000 cm \n",
      "200000 mm\n"
     ]
    }
   ],
   "source": [
    "valor = eval(input('Digite um valor em metros '))\n",
    "\n",
    "centimetros = valor * 100\n",
    "milimetros = valor * 1000\n",
    "\n",
    "print('{} metros corresponde a --> \\n{:.0f} cm \\n{:.0f} mm'. format(valor, centimetros, milimetros))"
   ]
  },
  {
   "cell_type": "markdown",
   "id": "1d0c47fd",
   "metadata": {},
   "source": [
    "__Desafio 9__ <br>\n",
    "Faça um programa que leia um número inteiro qualquer e mostre na tela a sua tabuada"
   ]
  },
  {
   "cell_type": "code",
   "execution_count": 151,
   "id": "c48859d6",
   "metadata": {},
   "outputs": [
    {
     "name": "stdout",
     "output_type": "stream",
     "text": [
      "Você quer saber a tabuada de qual número? 15\n",
      "===============\n",
      "  TABUADA DO 15\n",
      "===============\n",
      "  15 x 1 = 15\n",
      "  15 x 2 = 30\n",
      "  15 x 3 = 45\n",
      "  15 x 4 = 60\n",
      "  15 x 5 = 75\n",
      "  15 x 6 = 90\n",
      "  15 x 7 = 105\n",
      "  15 x 8 = 120\n",
      "  15 x 9 = 135\n",
      "  15 x 10 = 150\n",
      "===============\n"
     ]
    }
   ],
   "source": [
    "numero = eval(input('Você quer saber a tabuada de qual número? '))\n",
    "\n",
    "print('=====' * 3)\n",
    "print('  TABUADA DO {}'.format(numero))\n",
    "print('=====' * 3)\n",
    "print('  {} x 1 = {}'.format(numero, numero * 1))\n",
    "print('  {} x 2 = {}'.format(numero, numero * 2))\n",
    "print('  {} x 3 = {}'.format(numero, numero * 3))\n",
    "print('  {} x 4 = {}'.format(numero, numero * 4))\n",
    "print('  {} x 5 = {}'.format(numero, numero * 5))\n",
    "print('  {} x 6 = {}'.format(numero, numero * 6))\n",
    "print('  {} x 7 = {}'.format(numero, numero * 7))\n",
    "print('  {} x 8 = {}'.format(numero, numero * 8))\n",
    "print('  {} x 9 = {}'.format(numero, numero * 9))\n",
    "print('  {} x 10 = {}'.format(numero, numero * 10))\n",
    "\n",
    "print('=====' * 3)"
   ]
  },
  {
   "cell_type": "code",
   "execution_count": 124,
   "id": "db9d1e5b",
   "metadata": {},
   "outputs": [
    {
     "name": "stdout",
     "output_type": "stream",
     "text": [
      "Você quer saber a tabuada de qual número? 7\n",
      "===============\n",
      "  TABUADA DO 7\n",
      "===============\n",
      "  7 x 1 = 7\n",
      "  7 x 2 = 14\n",
      "  7 x 3 = 21\n",
      "  7 x 4 = 28\n",
      "  7 x 5 = 35\n",
      "  7 x 6 = 42\n",
      "  7 x 7 = 49\n",
      "  7 x 8 = 56\n",
      "  7 x 9 = 63\n",
      "  7 x 10 = 70\n",
      "===============\n"
     ]
    }
   ],
   "source": [
    "numero = eval(input('Você quer saber a tabuada de qual número? '))\n",
    "\n",
    "print('=====' * 3)\n",
    "print('  TABUADA DO {}'.format(numero))\n",
    "print('=====' * 3)\n",
    "print('  {} x 1 = {}'.format(numero, numero * 1))\n",
    "print('  {} x 2 = {}'.format(numero, numero * 2))\n",
    "print('  {} x 3 = {}'.format(numero, numero * 3))\n",
    "print('  {} x 4 = {}'.format(numero, numero * 4))\n",
    "print('  {} x 5 = {}'.format(numero, numero * 5))\n",
    "print('  {} x 6 = {}'.format(numero, numero * 6))\n",
    "print('  {} x 7 = {}'.format(numero, numero * 7))\n",
    "print('  {} x 8 = {}'.format(numero, numero * 8))\n",
    "print('  {} x 9 = {}'.format(numero, numero * 9))\n",
    "print('  {} x 10 = {}'.format(numero, numero * 10))\n",
    "\n",
    "print('=====' * 3)"
   ]
  },
  {
   "cell_type": "markdown",
   "id": "0ee5f019",
   "metadata": {},
   "source": [
    "__Desafio 10__ <br>\n",
    "Crie um programa que leia quanto dinheiro uma pessoa tem na carteira e mostre quantos dólares ela pode comprar"
   ]
  },
  {
   "cell_type": "code",
   "execution_count": 150,
   "id": "1117e22f",
   "metadata": {},
   "outputs": [
    {
     "name": "stdout",
     "output_type": "stream",
     "text": [
      "Digite quanto dinheiro voce tem na carteira >> 78.95\n",
      "Hoje com R$78.95 você pode comprar $15.096 dólares e em 2017 poderia comprar $24.144\n"
     ]
    }
   ],
   "source": [
    "carteira = eval(input('Digite quanto dinheiro voce tem na carteira >> '))\n",
    "\n",
    "dolar22 = round((carteira / 5.23), 3)\n",
    "dolar17 = round((carteira / 3.27), 3)\n",
    "\n",
    "print('Hoje com R${} você pode comprar ${} dólares e em 2017 poderia comprar ${}'.format(carteira, dolar22, dolar17))"
   ]
  },
  {
   "cell_type": "code",
   "execution_count": 168,
   "id": "cad41d14",
   "metadata": {},
   "outputs": [
    {
     "name": "stdout",
     "output_type": "stream",
     "text": [
      "Digite quanto dinheiro voce tem na carteira R$ 125.32\n",
      "Hoje com R$125.32 você pode comprar $23.96 dólares e em 2017 poderia comprar $38.32\n"
     ]
    }
   ],
   "source": [
    "carteira = eval(input('Digite quanto dinheiro voce tem na carteira R$ '))\n",
    "\n",
    "dolar22 = carteira / 5.23\n",
    "dolar17 = carteira / 3.27\n",
    "\n",
    "print('Hoje com R${:.2f} você pode comprar ${:.2f} dólares e em 2017 poderia comprar ${:.2f}'.format(carteira,\n",
    "                                                                                                     dolar22, dolar17))"
   ]
  },
  {
   "cell_type": "markdown",
   "id": "842216a4",
   "metadata": {},
   "source": [
    "__Desafio 11__ <br>\n",
    "Faça um programa que leia a largura e a altura de uma parede em metros e calcule a sua área e a quantidade de tinta necessária para pinta-la , sabendo que cada litro de tinta pinta uma área de 2m²"
   ]
  },
  {
   "cell_type": "code",
   "execution_count": 153,
   "id": "49367d02",
   "metadata": {},
   "outputs": [
    {
     "name": "stdout",
     "output_type": "stream",
     "text": [
      "Digite a largura da parede em metros2\n",
      "Digite a altura da perede em metros1.5\n",
      "A área da parede é de 3m², e será necessário 0.75 litros de tinta para pintá-la\n"
     ]
    }
   ],
   "source": [
    "largura = eval(input('Digite a largura da parede em metros '))\n",
    "altura = eval(input('Digite a altura da perede em metros '))\n",
    "\n",
    "area = round(altura * largura)\n",
    "\n",
    "tinta = area/2**2\n",
    "\n",
    "print('A área da parede é de {}m², e será necessário {} litros de tinta para pintá-la'.format(area, tinta))"
   ]
  },
  {
   "cell_type": "code",
   "execution_count": 174,
   "id": "29ec41c6",
   "metadata": {},
   "outputs": [
    {
     "name": "stdout",
     "output_type": "stream",
     "text": [
      "Digite a largura da parede em metros -> 5\n",
      "Digite a altura da perede em metros -> 5\n",
      "Sua parede tem a dimensão de 5 x 5 e sua área é de 25m²\n",
      "Será necessário 12.5 litros de tinta para pintar a sua parede\n"
     ]
    }
   ],
   "source": [
    "largura = eval(input('Digite a largura da parede em metros -> '))\n",
    "altura = eval(input('Digite a altura da perede em metros -> '))\n",
    "\n",
    "area = round(altura * largura)\n",
    "\n",
    "tinta = area/2\n",
    "\n",
    "print('Sua parede tem a dimensão de {} x {} e sua área é de {}m²'.format(largura, altura, area))\n",
    "print('Será necessário {} litros de tinta para pintar a sua parede'.format(tinta))"
   ]
  },
  {
   "cell_type": "markdown",
   "id": "75532262",
   "metadata": {},
   "source": [
    "__Desafio 12__ <br>\n",
    "Faça um programa que leia o preço de um produto e mostre seu novo preço com 5% de desconto"
   ]
  },
  {
   "cell_type": "code",
   "execution_count": 156,
   "id": "9df87785",
   "metadata": {},
   "outputs": [
    {
     "name": "stdout",
     "output_type": "stream",
     "text": [
      "Digite o preço do produto 23.10\n",
      "O novo preço do produto com 5% de desconto é R$21.95\n"
     ]
    }
   ],
   "source": [
    "produto = eval(input('Digite o preço do produto '))\n",
    "\n",
    "preco = round(produto - (produto * (5/100)), 2)\n",
    "\n",
    "print('O novo preço do produto com 5% de desconto é R${}'.format(preco))"
   ]
  },
  {
   "cell_type": "code",
   "execution_count": 182,
   "id": "a1900e6e",
   "metadata": {},
   "outputs": [
    {
     "name": "stdout",
     "output_type": "stream",
     "text": [
      "Digite o preço do produto R$927.23\n",
      "O novo preço do produto com 5% de desconto é R$880.87\n"
     ]
    }
   ],
   "source": [
    "produto = eval(input('Digite o preço do produto R$'))\n",
    "\n",
    "preco = produto - (produto * 0.05)\n",
    "\n",
    "print('O novo preço do produto com 5% de desconto é R${:.2f}'.format(preco))"
   ]
  },
  {
   "cell_type": "markdown",
   "id": "b3f2869a",
   "metadata": {},
   "source": [
    "__Desafio 13__ <br>\n",
    "Faça um algoritmo que leia o salário de um funcionário e mostre seu novo salário com 15% de aumento"
   ]
  },
  {
   "cell_type": "code",
   "execution_count": 181,
   "id": "92336e7c",
   "metadata": {},
   "outputs": [
    {
     "name": "stdout",
     "output_type": "stream",
     "text": [
      "Digite seu salário: 2100\n",
      "O valor do seu salário de R$2100 com 15% de aumento é igual a R$2415.0\n"
     ]
    }
   ],
   "source": [
    "salario = eval(input('Digite seu salário: '))\n",
    "\n",
    "salarionovo = round(salario + (salario * 15/100), 2)\n",
    "\n",
    "print('O valor do seu salário de R${} com 15% de aumento é igual a R${}'.format(salario, salarionovo))"
   ]
  },
  {
   "cell_type": "code",
   "execution_count": 183,
   "id": "1cb86552",
   "metadata": {},
   "outputs": [
    {
     "name": "stdout",
     "output_type": "stream",
     "text": [
      "Digite seu salário: 3500\n",
      "O valor do seu salário de R$3500.00 com 15% de aumento é igual a R$4025.00\n"
     ]
    }
   ],
   "source": [
    "salario = eval(input('Digite um salário: R$'))\n",
    "\n",
    "salarionovo = salario + (salario * 15/100)\n",
    "\n",
    "print('O valor do salário de R${:.2f} com 15% de aumento é igual a R${:.2f}'.format(salario, salarionovo))"
   ]
  },
  {
   "cell_type": "code",
   "execution_count": 186,
   "id": "c80e120b",
   "metadata": {},
   "outputs": [
    {
     "name": "stdout",
     "output_type": "stream",
     "text": [
      "Digite um salário: R$3500\n",
      "O valor do salário de R$3500.00 com 15% de aumento é igual a R$4025.00\n"
     ]
    }
   ],
   "source": [
    "salario = eval(input('Digite um salário: R$'))\n",
    "\n",
    "salarionovo = salario + (salario * 0.15)\n",
    "\n",
    "print('O valor do salário de R${:.2f} com 15% de aumento é igual a R${:.2f}'.format(salario, salarionovo))"
   ]
  },
  {
   "cell_type": "markdown",
   "id": "53776daa",
   "metadata": {},
   "source": [
    "__Desafio 14__ <br>\n",
    "Escreva um programa que converta uma temperatura digitada em ºC e converta para ºF"
   ]
  },
  {
   "cell_type": "code",
   "execution_count": 190,
   "id": "9272018b",
   "metadata": {},
   "outputs": [
    {
     "name": "stdout",
     "output_type": "stream",
     "text": [
      "Digite uma temperatura em Celsius -> 45\n",
      "A tempertura de 45°C equivale a 113.0°F\n"
     ]
    }
   ],
   "source": [
    "celsius = eval(input('Digite uma temperatura em Celsius -> '))\n",
    "\n",
    "farenheit = (celsius * 9)/5 + 32\n",
    "\n",
    "print('A tempertura de {}°C equivale a {}°F'.format(celsius, farenheit))"
   ]
  },
  {
   "cell_type": "code",
   "execution_count": 191,
   "id": "962022be",
   "metadata": {},
   "outputs": [
    {
     "name": "stdout",
     "output_type": "stream",
     "text": [
      "Digite uma temperatura em Celsius -> 40\n",
      "A tempertura de 40°C equivale a 104.0°F\n"
     ]
    }
   ],
   "source": [
    "# Sem nenhum parenteses nesse caso, dá o mesmo resultado\n",
    "\n",
    "celsius = eval(input('Digite uma temperatura em Celsius -> '))\n",
    "\n",
    "farenheit = celsius * 9 /5 + 32\n",
    "\n",
    "print('A tempertura de {}°C equivale a {}°F'.format(celsius, farenheit))"
   ]
  },
  {
   "cell_type": "markdown",
   "id": "764af817",
   "metadata": {},
   "source": [
    "__Desafio 15__ <br>\n",
    "Escreva um programa que pergunte a quantidade de km percorridos por um carro alugado e a quantidade de dias pelos quais ele foi alugado. Calcule o preço a pagar, sabendo que o carro custa 60 reais por dia e 0.15 centavos por km rodado"
   ]
  },
  {
   "cell_type": "code",
   "execution_count": 195,
   "id": "f7183e17",
   "metadata": {},
   "outputs": [
    {
     "name": "stdout",
     "output_type": "stream",
     "text": [
      "Digite a quantidade de kilômetros -> 350\n",
      "Digite a quantidade de dias de alguel do carro -> 3\n",
      "Você alugou o carro por 3 dias e rodou 350 kilômetros \n",
      "O total a pagar é de R$232.50\n"
     ]
    }
   ],
   "source": [
    "km = eval(input('Digite a quantidade de kilômetros -> '))\n",
    "dias = eval(input('Digite a quantidade de dias de alguel do carro -> '))\n",
    "\n",
    "preco = (dias * 60) + (km * 0.15)\n",
    "\n",
    "print('Você alugou o carro por {} dias e rodou {} kilômetros \\nO total a pagar é de R${:.2f}'.format(dias, km, preco))"
   ]
  },
  {
   "cell_type": "markdown",
   "id": "9570fd17",
   "metadata": {},
   "source": [
    "### __Módulo 3 | Usando módulos do Python__\n",
    "Utilizando módulos | Quebrando um número | catetos e hipotenusa | Seno, Cosseno e Tangente | Sorteando um item na lista | Tocando um MP3 | Manipulando texto | Analisador de Textos | Separando Dígitos de um Número | Verificando as primeiras letras de um texto | Procurando Strings dentro de outra | Primeira e última ocorrência de uma string | Primeiro e último nome de uma pessoa"
   ]
  },
  {
   "cell_type": "markdown",
   "id": "e1ea531a",
   "metadata": {},
   "source": [
    "Módulos são como as bibliotecas. \n",
    "Exemplo do corpo humano e bibliotecas 'bebidas', 'comida', 'doce'.\n",
    "\n",
    "Utilização das importações <br>\n",
    "`import bebida` <br>\n",
    "`import doce`<br>\n",
    "\n",
    "Importações únicas <br>\n",
    "`from doce import pudim` <br>\n",
    "`from bebida import energético`\n",
    "\n",
    "Exemplo de biblioteca matemática\n",
    "``` import math\n",
    "ceil --> arredondamento para cima\n",
    "floor --> arredondamento para baixo\n",
    "trunc --> truncar, eliminar de vírgulas para frente\n",
    "pow --> exponenciação\n",
    "sqrt --> raiz quadrada\n",
    "factorial --> fatorial\n",
    "\n",
    "```\n",
    "`import math` - Utilização de toda a biblioteca <br>\n",
    "`from math import sqrt` - Utilização apenas da raiz quadrada"
   ]
  },
  {
   "cell_type": "code",
   "execution_count": 206,
   "id": "6369f4eb",
   "metadata": {},
   "outputs": [
    {
     "name": "stdout",
     "output_type": "stream",
     "text": [
      "Digite um número 29\n",
      "A raiz de 29 é igual a 5.39\n"
     ]
    }
   ],
   "source": [
    "# Fazendo a raiz quadrada de um número\n",
    "\n",
    "import math\n",
    "\n",
    "numero = eval(input('Digite um número '))\n",
    "\n",
    "raiz = math.sqrt(numero)\n",
    "\n",
    "# print('A raiz de {} é igual a {}'.format(numero, math.ceil(raiz))) | Arredondamento para cima\n",
    "#print('A raiz de {} é igual a {}'.format(numero, math.floor(raiz))) | Arredondamento para baixo\n",
    "\n",
    "print('A raiz de {} é igual a {:.2f}'.format(numero, raiz))"
   ]
  },
  {
   "cell_type": "code",
   "execution_count": 207,
   "id": "7d0ca27e",
   "metadata": {},
   "outputs": [
    {
     "name": "stdout",
     "output_type": "stream",
     "text": [
      "Digite um número 25\n",
      "A raiz de 25 é igual a 5.00\n"
     ]
    }
   ],
   "source": [
    "# Fazendo a raiz quadrada de um número importando apenas o sqrt\n",
    "\n",
    "from math import sqrt\n",
    "\n",
    "numero = eval(input('Digite um número '))\n",
    "\n",
    "raiz = sqrt(numero)\n",
    "\n",
    "print('A raiz de {} é igual a {:.2f}'.format(numero, raiz))"
   ]
  },
  {
   "cell_type": "code",
   "execution_count": 208,
   "id": "ae45bc29",
   "metadata": {},
   "outputs": [
    {
     "name": "stdout",
     "output_type": "stream",
     "text": [
      "Digite um número 25\n",
      "A raiz de 25 é igual a 5.00\n"
     ]
    }
   ],
   "source": [
    "# Fazendo a raiz quadrada de um número importando o sqrt e o floor\n",
    "\n",
    "\n",
    "from math import sqrt, floor\n",
    "\n",
    "numero = eval(input('Digite um número '))\n",
    "\n",
    "raiz = sqrt(numero)\n",
    "\n",
    "print('A raiz de {} é igual a {:.2f}'.format(numero, floor(raiz)))"
   ]
  },
  {
   "cell_type": "code",
   "execution_count": 212,
   "id": "7a1c2808",
   "metadata": {},
   "outputs": [
    {
     "name": "stdout",
     "output_type": "stream",
     "text": [
      "0.04818789765683018\n"
     ]
    }
   ],
   "source": [
    "# Importa numeros de 0 a 1\n",
    "\n",
    "import random\n",
    "\n",
    "numero = random.random()\n",
    "print(numero)"
   ]
  },
  {
   "cell_type": "code",
   "execution_count": 214,
   "id": "818c56ad",
   "metadata": {},
   "outputs": [
    {
     "name": "stdout",
     "output_type": "stream",
     "text": [
      "4\n"
     ]
    }
   ],
   "source": [
    "# Importa inteiros random\n",
    "\n",
    "import random\n",
    "\n",
    "numero = random.randint(1, 10)\n",
    "print(numero)"
   ]
  },
  {
   "cell_type": "code",
   "execution_count": 225,
   "id": "b3f73405",
   "metadata": {},
   "outputs": [
    {
     "name": "stdout",
     "output_type": "stream",
     "text": [
      "Hello world! 🕶️\n"
     ]
    }
   ],
   "source": [
    "# instalação da biblioteca -> pip install emoji\n",
    "\n",
    "import emoji\n",
    "\n",
    "print(emoji.emojize(\"Hello world! :sunglasses:\"))"
   ]
  },
  {
   "cell_type": "markdown",
   "id": "84afb426",
   "metadata": {},
   "source": [
    "Documentação: https://pypi.org/project/emoji/ <br>\n",
    "Cheat Sheet: https://www.webfx.com/tools/emoji-cheat-sheet/"
   ]
  },
  {
   "cell_type": "markdown",
   "id": "3634cf7a",
   "metadata": {},
   "source": [
    "__Desafio 16__ <br>\n",
    "Crie um programa que leia um número real qualquer pelo teclado e mostre sua porção inteira"
   ]
  },
  {
   "cell_type": "code",
   "execution_count": 233,
   "id": "16b23fb8",
   "metadata": {},
   "outputs": [
    {
     "name": "stdout",
     "output_type": "stream",
     "text": [
      "Digite um número decimal 5.24785475\n",
      "A porção inteira do 5.24785475 é igual a 5\n"
     ]
    }
   ],
   "source": [
    "import math \n",
    "\n",
    "numero = eval(input('Digite um número decimal '))\n",
    "\n",
    "print('A porção inteira do {} é igual a {}'.format(numero, math.trunc(numero)))"
   ]
  },
  {
   "cell_type": "markdown",
   "id": "0b7a1111",
   "metadata": {},
   "source": [
    "__Desafio 17__ <br>\n",
    "Faça um programa que leia o comprimento do cateto oposto  do cateto adjacente de um triângulo retângulo, calcule e mostre o comprimento da hipotenusa"
   ]
  },
  {
   "cell_type": "code",
   "execution_count": 232,
   "id": "dfa049ba",
   "metadata": {},
   "outputs": [
    {
     "name": "stdout",
     "output_type": "stream",
     "text": [
      "Digite o valor do cateto oposto: 2\n",
      "Digite o valor do cateto adjacente: 3\n",
      "A hipotenusa dos catetos 2 e 3 é igual a 3.61\n"
     ]
    }
   ],
   "source": [
    "cateto_o = eval(input('Digite o valor do cateto oposto: '))\n",
    "cateto_a = eval(input('Digite o valor do cateto adjacente: '))\n",
    "\n",
    "hipotenusa = math.hypot(cateto_o, cateto_a)\n",
    "\n",
    "print('A hipotenusa dos catetos {} e {} é igual a {:.2f}'.format(cateto_o, cateto_a, hipotenusa))"
   ]
  },
  {
   "cell_type": "markdown",
   "id": "65fcf7b3",
   "metadata": {},
   "source": [
    "__Desafio 18__ <br>\n",
    "Faça um programa que leia um ângulo qualquer e mostre na tela o valor de seno, cosseno e tangente desse ângulo."
   ]
  },
  {
   "cell_type": "code",
   "execution_count": 239,
   "id": "a4b4fca0",
   "metadata": {},
   "outputs": [
    {
     "name": "stdout",
     "output_type": "stream",
     "text": [
      "Digite o valor de um ângulo: 46\n",
      "Seno: 0.90 \n",
      "Cosseno: -0.43 \n",
      "Tangente: -2.09 \n"
     ]
    }
   ],
   "source": [
    "angulo = eval(input('Digite o valor de um ângulo: '))\n",
    "\n",
    "seno = math.sin(angulo)\n",
    "cosseno = math.cos(angulo)\n",
    "tangente = math.tan(angulo)\n",
    "\n",
    "print('Seno: {:.2f} \\nCosseno: {:.2f} \\nTangente: {:.2f} '.format(seno, cosseno, tangente))"
   ]
  },
  {
   "cell_type": "markdown",
   "id": "198e2207",
   "metadata": {},
   "source": [
    "__Desafio 19__ <br>\n",
    "Um professor quer sortear um dos seus quatro alunos para apagar o quadro. Faça um programa que ajude ele, lendo o nome deles e escrevendo o nome do escolhido"
   ]
  },
  {
   "cell_type": "code",
   "execution_count": 253,
   "id": "de4f3c99",
   "metadata": {},
   "outputs": [
    {
     "name": "stdout",
     "output_type": "stream",
     "text": [
      "Digite o nome do aluno 1 -> aline\n",
      "Digite o nome do aluno 2 -> gustavo\n",
      "Digite o nome do aluno 3 -> pamela\n",
      "Digite o nome do aluno 4 -> gabriel\n",
      "O aluno escolhido foi pamela! Parabéns\n"
     ]
    }
   ],
   "source": [
    "import random\n",
    "\n",
    "aluno1 = input('Digite o nome do aluno 1 -> ')\n",
    "aluno2 = input('Digite o nome do aluno 2 -> ')\n",
    "aluno3 = input('Digite o nome do aluno 3 -> ')\n",
    "aluno4 = input('Digite o nome do aluno 4 -> ')\n",
    "\n",
    "sorteio = random.choice([aluno1, aluno2, aluno3, aluno4])\n",
    "\n",
    "print('O aluno escolhido foi {}! Parabéns'.format(sorteio))"
   ]
  },
  {
   "cell_type": "markdown",
   "id": "14368d2c",
   "metadata": {},
   "source": [
    "__Desafio 20__ <br>\n",
    "O mesmo professor do desafio anterior quer sortear a ordem de apresentação de trabalho dos alunos. Faça um programa que leia o nome dos quatro alunos e mostre a ordem sorteada"
   ]
  },
  {
   "cell_type": "code",
   "execution_count": 261,
   "id": "8d49c039",
   "metadata": {},
   "outputs": [
    {
     "name": "stdout",
     "output_type": "stream",
     "text": [
      "Digite o nome do aluno 1 -> sibila\n",
      "Digite o nome do aluno 2 -> tutancamon\n",
      "Digite o nome do aluno 3 -> sócrates\n",
      "Digite o nome do aluno 4 -> anakin\n",
      "Os alunos apresentarão na seguinte ordem: ['anakin', 'sibila', 'tutancamon', 'sócrates']\n"
     ]
    }
   ],
   "source": [
    "aluno1 = input('Digite o nome do aluno 1 -> ')\n",
    "aluno2 = input('Digite o nome do aluno 2 -> ')\n",
    "aluno3 = input('Digite o nome do aluno 3 -> ')\n",
    "aluno4 = input('Digite o nome do aluno 4 -> ')\n",
    "\n",
    "lista_alunos = (aluno1, aluno2, aluno3, aluno4)\n",
    "\n",
    "sorteio_ordenado = random.sample(lista_alunos, k = 4)\n",
    "print('Os alunos apresentarão na seguinte ordem: {}'.format(sorteio_ordenado))"
   ]
  },
  {
   "cell_type": "markdown",
   "id": "db247733",
   "metadata": {},
   "source": [
    "__Desafio 21__ <br>\n",
    "Faça um programa em pyhton que abrae reproduza o áudio de um arquivo mp3"
   ]
  },
  {
   "cell_type": "code",
   "execution_count": null,
   "id": "a0bc58c9",
   "metadata": {},
   "outputs": [],
   "source": []
  }
 ],
 "metadata": {
  "kernelspec": {
   "display_name": "Python 3 (ipykernel)",
   "language": "python",
   "name": "python3"
  },
  "language_info": {
   "codemirror_mode": {
    "name": "ipython",
    "version": 3
   },
   "file_extension": ".py",
   "mimetype": "text/x-python",
   "name": "python",
   "nbconvert_exporter": "python",
   "pygments_lexer": "ipython3",
   "version": "3.9.12"
  }
 },
 "nbformat": 4,
 "nbformat_minor": 5
}
